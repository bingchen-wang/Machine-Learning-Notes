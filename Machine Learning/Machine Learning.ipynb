{
 "cells": [
  {
   "cell_type": "markdown",
   "metadata": {
    "pycharm": {
     "name": "#%% md\n"
    }
   },
   "source": [
    "# Machine Learning\n",
    "\n",
    "Author: Bingchen Wang\n",
    "\n",
    "Last updated: 7 Nov, 2022\n",
    "\n",
    "---\n"
   ]
  },
  {
   "cell_type": "markdown",
   "metadata": {},
   "source": [
    "## Writing at the front\n",
    "\n",
    "Delving into the world of machine learning can be a challenging yet exciting journey, especially done independently. \n",
    "\n",
    "During my independent study of the topics in AI/ML, I was constantly inspired by the insights and generous shares of resources from the online community. In the same spirit, I decided to digitize my learning notes and share with interested independent learners. The set of notes contains both conceptual and implementation details of several popular machine learning methods. It synchronised the notes I took while taking several online courses and while reading some classic statistical textbooks. It included extended information, inter alia implementation labs I coded in part to satisfy my curiosity and aid the understanding of ML methods in practice. It should be used for the purpose of independent learning or as a complement to the MOOCs. All typos are mine."
   ]
  },
  {
   "cell_type": "markdown",
   "metadata": {
    "pycharm": {
     "name": "#%% md\n"
    },
    "tags": []
   },
   "source": [
    "## Overview\n",
    "\n",
    "- [Supervised Learning](./Supervised%20Learning/Supervised%20Learning.ipynb)\n",
    "    - [Deep Learning](./Deep%20Learning/Deep%20Learning%20Basics.ipynb)\n",
    "    - [Decision Trees](./Supervised%20Learning/Decision%20Trees.ipynb)\n",
    "    - [Recommenders](./Supervised%20Learning/Recommenders.ipynb)\n",
    "- [Unsupervised Learning](./Unsupervised%20Learning/Unsupervised%20Learning.ipynb)\n",
    "    - [K-means Clustering](./Unsupervised%20Learning/Unsupervised%20Learning.ipynb/#KMC)\n",
    "    - [Mixture of Gaussians](./Unsupervised%20Learning/Unsupervised%20Learning.ipynb/#MoG)\n",
    "    - [Factor Analysis](./Unsupervised%20Learning/Unsupervised%20Learning.ipynb/#FA)\n",
    "    - [Principal Component Analysis](./Unsupervised%20Learning/Unsupervised%20Learning.ipynb/#PCA)\n",
    "    - [Independent Component Analysis](./Unsupervised%20Learning/Unsupervised%20Learning.ipynb/#ICA)\n",
    "- [Reinforcement Learning](./Reinforcement%20Learning/Reinforcement%20Learning.ipynb)\n",
    "   "
   ]
  },
  {
   "cell_type": "markdown",
   "metadata": {
    "pycharm": {
     "name": "#%%\n"
    },
    "tags": []
   },
   "source": [
    "## Useful Resources\n",
    "\n",
    "- Linear Algebra\n",
    "    - [The Matrix Cookbook](https://www.math.uwaterloo.ca/~hwolkowi//matrixcookbook.pdf)\n",
    "    - [Matrix calculus](https://en.wikipedia.org/wiki/Matrix_calculus)\n",
    "\n",
    "## References\n",
    "- Courses\n",
    "    - [Stanford CS229](https://www.youtube.com/watch?v=jGwO_UgTS7I&list=PLoROMvodv4rMiGQp3WXShtMGgzqpfVfbU)\n",
    "    - [Machine Learning Specialization (Coursera)](https://www.coursera.org/specializations/machine-learning-introduction?utm_source=gg&utm_medium=sem&utm_campaign=07_MachineLearningStanfordSearch-ROW&utm_content=B2C&campaignid=2070742271&adgroupid=75329549926&device=c&keyword=machine%20learning%20courses&matchtype=p&network=g&devicemodel=&adpostion=&creativeid=606865646333&hide_mobile_promo&gclid=CjwKCAjwpqCZBhAbEiwAa7pXebOqlg_WQrh5X3h01VivnIIXrQ8p3fLg7A90a1Yt_rxZygh07gzNVhoC704QAvD_BwE)\n",
    "    - [Deep Learning Specialization (Coursera)](https://www.coursera.org/specializations/deep-learning)\n",
    "- Texts\n",
    "    - [The Elements of Statistical Learning](https://hastie.su.domains/ElemStatLearn/printings/ESLII_print12_toc.pdf)\n",
    "    - [An Introduction to Statistical Learning](https://hastie.su.domains/ISLR2/ISLRv2_website.pdf)"
   ]
  }
 ],
 "metadata": {
  "kernelspec": {
   "display_name": "Python 3 (ipykernel)",
   "language": "python",
   "name": "python3"
  },
  "language_info": {
   "codemirror_mode": {
    "name": "ipython",
    "version": 3
   },
   "file_extension": ".py",
   "mimetype": "text/x-python",
   "name": "python",
   "nbconvert_exporter": "python",
   "pygments_lexer": "ipython3",
   "version": "3.9.7"
  }
 },
 "nbformat": 4,
 "nbformat_minor": 4
}
