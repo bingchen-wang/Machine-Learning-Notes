{
 "cells": [
  {
   "cell_type": "markdown",
   "metadata": {
    "pycharm": {
     "name": "#%% md\n"
    }
   },
   "source": [
    "# Machine Learning\n",
    "\n",
    "Author: Bingchen Wang\n",
    "\n",
    "Last updated: 19 Oct, 2022\n",
    "\n",
    "---\n"
   ]
  },
  {
   "cell_type": "markdown",
   "metadata": {
    "pycharm": {
     "name": "#%% md\n"
    },
    "tags": []
   },
   "source": [
    "## Overview\n",
    "\n",
    "- [Supervised Learning](./Supervised%20Learning/Supervised%20Learning.ipynb)\n",
    "    - Deep Learning\n",
    "    - [Decision Trees](./Supervised%20Learning/Decision%20Trees.ipynb)\n",
    "    - [Recommenders](./Supervised%20Learning/Recommenders.ipynb)\n",
    "- [Unsupervised Learning](./Unsupervised%20Learning/Unsupervised%20Learning.ipynb)\n",
    "    - [K-means Clustering](./Unsupervised%20Learning/Unsupervised%20Learning.ipynb/#KMC)\n",
    "    - [Mixture of Gaussians](./Unsupervised%20Learning/Unsupervised%20Learning.ipynb/#MoG)\n",
    "    - [Factor Analysis](./Unsupervised%20Learning/Unsupervised%20Learning.ipynb/#FA)\n",
    "    - [Principal Component Analysis](./Unsupervised%20Learning/Unsupervised%20Learning.ipynb/#PCA)\n",
    "    - [Independent Component Analysis](./Unsupervised%20Learning/Unsupervised%20Learning.ipynb/#ICA)\n",
    "- [Reinforcement Learning](./Reinforcement%20Learning/Reinforcement%20Learning.ipynb)\n",
    "   "
   ]
  },
  {
   "cell_type": "markdown",
   "metadata": {
    "pycharm": {
     "name": "#%%\n"
    },
    "tags": []
   },
   "source": [
    "## Useful Resources\n",
    "\n",
    "- Linear Algebra\n",
    "    - [The Matrix Cookbook](https://www.math.uwaterloo.ca/~hwolkowi//matrixcookbook.pdf)"
   ]
  }
 ],
 "metadata": {
  "kernelspec": {
   "display_name": "Python 3 (ipykernel)",
   "language": "python",
   "name": "python3"
  },
  "language_info": {
   "codemirror_mode": {
    "name": "ipython",
    "version": 3
   },
   "file_extension": ".py",
   "mimetype": "text/x-python",
   "name": "python",
   "nbconvert_exporter": "python",
   "pygments_lexer": "ipython3",
   "version": "3.9.7"
  }
 },
 "nbformat": 4,
 "nbformat_minor": 4
}
