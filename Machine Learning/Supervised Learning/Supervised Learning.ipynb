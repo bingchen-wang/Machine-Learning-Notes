{
 "cells": [
  {
   "cell_type": "markdown",
   "id": "1c243480-879d-4de4-b277-b4d9457e0516",
   "metadata": {},
   "source": [
    "# Supervised Learning\n",
    "\n",
    "Author: Bingchen Wang\n",
    "\n",
    "Last Updated: 7 Nov, 2022\n",
    "\n",
    "---\n",
    "\n",
    "<nav>\n",
    "    <a href=\"../Machine%20Learning.ipynb\">Back to the main file</a>\n",
    "</nav>\n",
    "\n",
    "---\n"
   ]
  },
  {
   "cell_type": "code",
   "execution_count": 1,
   "id": "b8d74a28-470f-4506-b42c-8045cf8df92c",
   "metadata": {},
   "outputs": [
    {
     "data": {
      "text/html": [
       "<link rel='stylesheet' type='text/css' media='screen' href='../styles/custom.css'>\n"
      ],
      "text/plain": [
       "<IPython.core.display.HTML object>"
      ]
     },
     "metadata": {},
     "output_type": "display_data"
    }
   ],
   "source": [
    "%%html\n",
    "<link rel='stylesheet' type='text/css' media='screen' href='../styles/custom.css'>"
   ]
  },
  {
   "cell_type": "markdown",
   "id": "0f5d56a5-4bdd-462d-962b-675bc2ebbce0",
   "metadata": {},
   "source": [
    "<section class = \"section--outline\">\n",
    "    <div class = \"outline--header\">Outline </div>\n",
    "    <div class = \"outline--content\">\n",
    "        <b>Concepts:</b>\n",
    "        <ul>\n",
    "            <li> <a href = \"../Deep Learning/Deep Learning Basics.ipynb\">Deep Learning</a>\n",
    "            <li> <a href = \"./Decision Trees.ipynb\">Decision Trees</a>\n",
    "            <li> <a href = \"./Recommenders.ipynb\">Recommenders</a>\n",
    "        </ul>\n",
    "    </div>\n",
    "</section>"
   ]
  }
 ],
 "metadata": {
  "kernelspec": {
   "display_name": "Python (datascience)",
   "language": "python",
   "name": "datascience"
  },
  "language_info": {
   "codemirror_mode": {
    "name": "ipython",
    "version": 3
   },
   "file_extension": ".py",
   "mimetype": "text/x-python",
   "name": "python",
   "nbconvert_exporter": "python",
   "pygments_lexer": "ipython3",
   "version": "3.9.7"
  }
 },
 "nbformat": 4,
 "nbformat_minor": 5
}
